{
 "cells": [
  {
   "cell_type": "markdown",
   "id": "62014b3c",
   "metadata": {},
   "source": [
    "# CS5200 Computer Architecture - Project 1"
   ]
  },
  {
   "cell_type": "markdown",
   "id": "39df6cee",
   "metadata": {},
   "source": [
    "In this project we used the gem5 simulator to run an experiment changing features of the pipeline, functional units, and compiler optimization (loop unrolling) and evaluated the sensitivity of changing these features. Multiple response variables were collected to evaluate the performance of the different combinations of features. These responses are simulation time, L1 cache misses, and the number of times a loop was unrolled. \n",
    "- **CPU:** TimeSimpleCPU, MyMinorCPU\n",
    "- **Cache Sizes:** 64kB Direct-Mapped L1 Data Cache, 32kB Direct-Mapped L1 Instruction Cache, 4MB 8-way Unified L2 Cache\n",
    "- **Functional Units (Operation Latency, Issue Latency):** (6, 1), (5_2), (4_3), (3_4), (2_5), (1_6)\n",
    "- **Loop Unrolling:** Not Included, Included\n",
    "\n",
    "Additionally, each of these architectures were run using three variations of a priority queue implementation:\n",
    "- `pq-null.c`\n",
    "- `pq-linklist.c`\n",
    "- `pq-minheap.c`"
   ]
  },
  {
   "cell_type": "code",
   "execution_count": 2,
   "id": "335223e8",
   "metadata": {},
   "outputs": [],
   "source": [
    "import read_data\n",
    "import pandas as pd\n",
    "import seaborn as sns\n",
    "from matplotlib import pyplot as plt\n",
    "import statsmodels.api as sm\n",
    "\n",
    "pd.set_option('display.max_rows', None)\n",
    "plt.rcParams[\"figure.figsize\"] = (10, 5)"
   ]
  },
  {
   "cell_type": "markdown",
   "id": "f9737f83",
   "metadata": {},
   "source": [
    "## 1. Import Data\n",
    "A bash script was utilized to run all of the configurations of our simulation. This script also included functionality to create and save the `stats.txt` files in a file structure. After running all of the experiments in gem5, the file structure containing all of the `stats.txt` output files was copied from the Docker container. A second script was created to read in the `stats.txt` files contained in the file structure and save the data into a pandas DataFrame."
   ]
  },
  {
   "cell_type": "code",
   "execution_count": 3,
   "id": "fd4f346b",
   "metadata": {},
   "outputs": [
    {
     "name": "stdout",
     "output_type": "stream",
     "text": [
      "output/p1/null_stats.txt\n",
      "output/p2/null_stats.txt\n",
      "output/p3/base/null_stats.txt\n",
      "output/p3/6_1/null_stats.txt\n",
      "output/p3/5_2/null_stats.txt\n",
      "output/p3/4_3/null_stats.txt\n",
      "output/p3/3_4/null_stats.txt\n",
      "output/p3/2_5/null_stats.txt\n",
      "output/p3/1_6/null_stats.txt\n",
      "output/p4/2_4/null_stats.txt\n",
      "output/p4/1_4/null_stats.txt\n",
      "output/p4/2_2/null_stats.txt\n",
      "output/p5/base/null_stats.txt\n",
      "output/p5/6_1/null_stats.txt\n",
      "output/p5/5_2/null_stats.txt\n",
      "output/p5/4_3/null_stats.txt\n",
      "output/p5/3_4/null_stats.txt\n",
      "output/p5/2_5/null_stats.txt\n",
      "output/p5/1_6/null_stats.txt\n",
      "output/p5/2_4/null_stats.txt\n",
      "output/p5/1_4/null_stats.txt\n",
      "output/p5/2_2/null_stats.txt\n",
      "output/p1/linklist_stats.txt\n",
      "output/p2/linklist_stats.txt\n",
      "output/p3/base/linklist_stats.txt\n",
      "output/p3/6_1/linklist_stats.txt\n",
      "output/p3/5_2/linklist_stats.txt\n",
      "output/p3/4_3/linklist_stats.txt\n",
      "output/p3/3_4/linklist_stats.txt\n",
      "output/p3/2_5/linklist_stats.txt\n",
      "output/p3/1_6/linklist_stats.txt\n",
      "output/p4/2_4/linklist_stats.txt\n",
      "output/p4/1_4/linklist_stats.txt\n",
      "output/p4/2_2/linklist_stats.txt\n",
      "output/p5/base/linklist_stats.txt\n",
      "output/p5/6_1/linklist_stats.txt\n",
      "output/p5/5_2/linklist_stats.txt\n",
      "output/p5/4_3/linklist_stats.txt\n",
      "output/p5/3_4/linklist_stats.txt\n",
      "output/p5/2_5/linklist_stats.txt\n",
      "output/p5/1_6/linklist_stats.txt\n",
      "output/p5/2_4/linklist_stats.txt\n",
      "output/p5/1_4/linklist_stats.txt\n",
      "output/p5/2_2/linklist_stats.txt\n",
      "output/p1/minheap_stats.txt\n",
      "output/p2/minheap_stats.txt\n",
      "output/p3/base/minheap_stats.txt\n",
      "output/p3/6_1/minheap_stats.txt\n",
      "output/p3/5_2/minheap_stats.txt\n",
      "output/p3/4_3/minheap_stats.txt\n",
      "output/p3/3_4/minheap_stats.txt\n",
      "output/p3/2_5/minheap_stats.txt\n",
      "output/p3/1_6/minheap_stats.txt\n",
      "output/p4/2_4/minheap_stats.txt\n",
      "output/p4/1_4/minheap_stats.txt\n",
      "output/p4/2_2/minheap_stats.txt\n",
      "output/p5/base/minheap_stats.txt\n",
      "output/p5/6_1/minheap_stats.txt\n",
      "output/p5/5_2/minheap_stats.txt\n",
      "output/p5/4_3/minheap_stats.txt\n",
      "output/p5/3_4/minheap_stats.txt\n",
      "output/p5/2_5/minheap_stats.txt\n",
      "output/p5/1_6/minheap_stats.txt\n",
      "output/p5/2_4/minheap_stats.txt\n",
      "output/p5/1_4/minheap_stats.txt\n",
      "output/p5/2_2/minheap_stats.txt\n"
     ]
    },
    {
     "data": {
      "text/html": [
       "<div>\n",
       "<style scoped>\n",
       "    .dataframe tbody tr th:only-of-type {\n",
       "        vertical-align: middle;\n",
       "    }\n",
       "\n",
       "    .dataframe tbody tr th {\n",
       "        vertical-align: top;\n",
       "    }\n",
       "\n",
       "    .dataframe thead th {\n",
       "        text-align: right;\n",
       "    }\n",
       "</style>\n",
       "<table border=\"1\" class=\"dataframe\">\n",
       "  <thead>\n",
       "    <tr style=\"text-align: right;\">\n",
       "      <th></th>\n",
       "      <th>time</th>\n",
       "      <th>reads</th>\n",
       "      <th>writes</th>\n",
       "      <th>l1d_miss</th>\n",
       "      <th>l1i_miss</th>\n",
       "      <th>part</th>\n",
       "      <th>cpu</th>\n",
       "      <th>fu</th>\n",
       "      <th>op_lat</th>\n",
       "      <th>pq</th>\n",
       "    </tr>\n",
       "  </thead>\n",
       "  <tbody>\n",
       "    <tr>\n",
       "      <th>0</th>\n",
       "      <td>59</td>\n",
       "      <td>30</td>\n",
       "      <td>19</td>\n",
       "      <td>35</td>\n",
       "      <td>91</td>\n",
       "      <td>p2</td>\n",
       "      <td>40</td>\n",
       "      <td>base</td>\n",
       "      <td>2_2</td>\n",
       "      <td>null</td>\n",
       "    </tr>\n",
       "    <tr>\n",
       "      <th>1</th>\n",
       "      <td>94</td>\n",
       "      <td>51</td>\n",
       "      <td>97</td>\n",
       "      <td>89</td>\n",
       "      <td>14</td>\n",
       "      <td>p3</td>\n",
       "      <td>72</td>\n",
       "      <td>1_6</td>\n",
       "      <td>2_2</td>\n",
       "      <td>null</td>\n",
       "    </tr>\n",
       "    <tr>\n",
       "      <th>2</th>\n",
       "      <td>11</td>\n",
       "      <td>51</td>\n",
       "      <td>34</td>\n",
       "      <td>68</td>\n",
       "      <td>43</td>\n",
       "      <td>p2</td>\n",
       "      <td>92</td>\n",
       "      <td>1_6</td>\n",
       "      <td>2_2</td>\n",
       "      <td>null</td>\n",
       "    </tr>\n",
       "    <tr>\n",
       "      <th>3</th>\n",
       "      <td>50</td>\n",
       "      <td>13</td>\n",
       "      <td>99</td>\n",
       "      <td>35</td>\n",
       "      <td>66</td>\n",
       "      <td>p2</td>\n",
       "      <td>30</td>\n",
       "      <td>6_1</td>\n",
       "      <td>2_2</td>\n",
       "      <td>minheap</td>\n",
       "    </tr>\n",
       "    <tr>\n",
       "      <th>4</th>\n",
       "      <td>66</td>\n",
       "      <td>59</td>\n",
       "      <td>20</td>\n",
       "      <td>67</td>\n",
       "      <td>7</td>\n",
       "      <td>p1</td>\n",
       "      <td>41</td>\n",
       "      <td>3_4</td>\n",
       "      <td>1_4</td>\n",
       "      <td>linklist</td>\n",
       "    </tr>\n",
       "  </tbody>\n",
       "</table>\n",
       "</div>"
      ],
      "text/plain": [
       "   time  reads  writes  l1d_miss  l1i_miss part  cpu    fu op_lat        pq\n",
       "0    59     30      19        35        91   p2   40  base    2_2      null\n",
       "1    94     51      97        89        14   p3   72   1_6    2_2      null\n",
       "2    11     51      34        68        43   p2   92   1_6    2_2      null\n",
       "3    50     13      99        35        66   p2   30   6_1    2_2   minheap\n",
       "4    66     59      20        67         7   p1   41   3_4    1_4  linklist"
      ]
     },
     "execution_count": 3,
     "metadata": {},
     "output_type": "execute_result"
    }
   ],
   "source": [
    "df = read_data.make_df()\n",
    "df.head()"
   ]
  },
  {
   "cell_type": "markdown",
   "id": "aa4937b0",
   "metadata": {},
   "source": [
    "## 2. Instruction Breakup\n",
    "### Question 1: What is the instruction breakup of instructions? \n",
    "Part 1 and Part 2 (`p1` and `p2`, respectively) were both run to provide baseline results using the TimingSimpleCPU, the baseline functional units (1 operation latency and 1 issue latency), and without using any cache. The only difference between the two parts is that `p1` tracked the descriptive statistics for the entire program, where `p2` simply tracked the statistics for the sorting portion of the program. In order to quickly inspect the breakup of instructions for each of our priority queue implementations, a bar plot was used. These plots compare the instruction breakup of `p1` and `p2` for each priority queue type."
   ]
  },
  {
   "cell_type": "code",
   "execution_count": 4,
   "id": "422177db",
   "metadata": {
    "scrolled": false
   },
   "outputs": [
    {
     "data": {
      "image/png": "[encoded data removed]",
      "text/plain": [
       "<Figure size 720x360 with 1 Axes>"
      ]
     },
     "metadata": {
      "needs_background": "light"
     },
     "output_type": "display_data"
    }
   ],
   "source": [
    "q1 = df.loc[df.part.isin(['p1', 'p2'])]\n",
    "# consider using a stacked bar plot here to show reads and writes in one bar\n",
    "sns.barplot(data=q1, x='part', y='reads', hue='pq')\n",
    "plt.title(\"Instrution Breakup\")\n",
    "plt.show()"
   ]
  },
  {
   "cell_type": "markdown",
   "id": "69d82101",
   "metadata": {},
   "source": [
    "*******************************************************************************************\n",
    "!!!!!!!!!!!!!!!!!!!!!!!!!!!!!!!!!!!!!!!!!!!!!!!!!!!!!!!!!!!!!!!!!!!!!!!!!!!!!!!!!!!!!!!!!!!!\n",
    "\n",
    "**ENTER RESULTS CONVERSAION HERE**\n",
    "\n",
    "!!!!!!!!!!!!!!!!!!!!!!!!!!!!!!!!!!!!!!!!!!!!!!!!!!!!!!!!!!!!!!!!!!!!!!!!!!!!!!!!!!!!!!!!!!!!\n",
    "*******************************************************"
   ]
  },
  {
   "cell_type": "markdown",
   "id": "86a446e8",
   "metadata": {},
   "source": [
    "## 3. Pipeline Design Exploration\n",
    "### Question 2: What are the L1 Cache Miss Rates?\n",
    "In this next part, `p3`, we move away from the TimingSimpleCPU which does not use a pipeline to the MyMinorCPU which executes instructions in a pipelined fashion. Part 3 also adds cache to the architecture: 64kB Direct-Mapped L1 Data Cache, 32kB Direct-Mapped L1 Instruction Cache, 4MB 8-way Unified L2 Cache. An easy way to observe the sensitivity of changing memory technology is to use a bar plot. An easy way to observe the cache miss rates for each of the priority queue implementations is to use a bar plot."
   ]
  },
  {
   "cell_type": "code",
   "execution_count": 5,
   "id": "17ed8dcb",
   "metadata": {
    "scrolled": false
   },
   "outputs": [
    {
     "data": {
      "image/png": "[encoded data removed]",
      "text/plain": [
       "<Figure size 720x360 with 1 Axes>"
      ]
     },
     "metadata": {
      "needs_background": "light"
     },
     "output_type": "display_data"
    },
    {
     "data": {
      "image/png": "[encoded data removed]",
      "text/plain": [
       "<Figure size 720x360 with 1 Axes>"
      ]
     },
     "metadata": {
      "needs_background": "light"
     },
     "output_type": "display_data"
    }
   ],
   "source": [
    "q2 = df.loc[df.part == 'p3']\n",
    "sns.barplot(data=q2, x='pq', y='l1d_miss')\n",
    "plt.title(\"L1 Data Cache Miss Rates\")\n",
    "plt.show()\n",
    "sns.barplot(data=q2, x='pq', y='l1i_miss')\n",
    "plt.title(\"L1 Instruction Cache Miss Rates\")\n",
    "plt.show()"
   ]
  },
  {
   "cell_type": "markdown",
   "id": "e30423ca",
   "metadata": {},
   "source": [
    "*******************************************************************************************\n",
    "!!!!!!!!!!!!!!!!!!!!!!!!!!!!!!!!!!!!!!!!!!!!!!!!!!!!!!!!!!!!!!!!!!!!!!!!!!!!!!!!!!!!!!!!!!!!\n",
    "\n",
    "**ENTER RESULTS CONVERSAION HERE**\n",
    "\n",
    "!!!!!!!!!!!!!!!!!!!!!!!!!!!!!!!!!!!!!!!!!!!!!!!!!!!!!!!!!!!!!!!!!!!!!!!!!!!!!!!!!!!!!!!!!!!!\n",
    "*******************************************************"
   ]
  },
  {
   "cell_type": "markdown",
   "id": "88868193",
   "metadata": {},
   "source": [
    "### Question 3: Which Design of the FloatSimd Functional Unit Would you Prefer?\n",
    "For this question we will assume that the issueLat and the opLat of the FloatSimdFU can vary from 1 to 6 cycles and that they always sum to 7 cycles. For each decrease in the opLat, we need to pay with a unit increase in issueLat. The enumerated combinations are:\n",
    "- opLat = 6, issueLat = 1\n",
    "- opLat = 5, issueLat = 2\n",
    "- opLat = 4, issueLat = 3\n",
    "- opLat = 3, issueLat = 4\n",
    "- opLat = 2, issueLat = 5\n",
    "- opLat = 1, issueLat = 6"
   ]
  },
  {
   "cell_type": "code",
   "execution_count": 8,
   "id": "30bf2746",
   "metadata": {
    "scrolled": false
   },
   "outputs": [
    {
     "data": {
      "image/png": "[encoded data removed]",
      "text/plain": [
       "<Figure size 720x360 with 1 Axes>"
      ]
     },
     "metadata": {
      "needs_background": "light"
     },
     "output_type": "display_data"
    }
   ],
   "source": [
    "sns.barplot(data=q2, x='fu', y='l1d_miss')\n",
    "plt.title(\"Operation and Issue Latency Tradeoff\")\n",
    "plt.show()"
   ]
  },
  {
   "cell_type": "markdown",
   "id": "b2019c5a",
   "metadata": {},
   "source": [
    "*******************************************************************************************\n",
    "!!!!!!!!!!!!!!!!!!!!!!!!!!!!!!!!!!!!!!!!!!!!!!!!!!!!!!!!!!!!!!!!!!!!!!!!!!!!!!!!!!!!!!!!!!!!\n",
    "\n",
    "**ENTER RESULTS CONVERSAION HERE**\n",
    "\n",
    "!!!!!!!!!!!!!!!!!!!!!!!!!!!!!!!!!!!!!!!!!!!!!!!!!!!!!!!!!!!!!!!!!!!!!!!!!!!!!!!!!!!!!!!!!!!!\n",
    "*******************************************************"
   ]
  },
  {
   "cell_type": "markdown",
   "id": "f9484a62",
   "metadata": {},
   "source": [
    "## 4. Function Unit Design Tradeoffs"
   ]
  },
  {
   "cell_type": "markdown",
   "id": "54b1c843",
   "metadata": {},
   "source": [
    "### Question 4: Which Function Cycles Should we Halve?\n",
    "In order to answer this question, we will assume our original Minor CPU design requires 2 cycles for integer functions and 4 cycles for floating point functions operation latencies (opLat). In our upcoming Minor CPU, we can halve either of these latencies: integer or floating point. The issue latency will remain constant at the default of 1. The enumerated combinations are:\n",
    "- Int = 2 cycles, FP = 4 cycles (this will be our baseline)\n",
    "- Int = 1 cycles, FP = 4 cycles \n",
    "- Int = 2 cycles, FP = 2 cycles"
   ]
  },
  {
   "cell_type": "code",
   "execution_count": 9,
   "id": "e4b3cda5",
   "metadata": {
    "scrolled": true
   },
   "outputs": [
    {
     "data": {
      "image/png": "[encoded data removed]",
      "text/plain": [
       "<Figure size 720x360 with 1 Axes>"
      ]
     },
     "metadata": {
      "needs_background": "light"
     },
     "output_type": "display_data"
    }
   ],
   "source": [
    "q4 = df.loc[df.part == 'p4']\n",
    "sns.barplot(data=q4, x='op_lat', y='l1d_miss')\n",
    "plt.title(\"Operation Latency Type (Int or Float) Halving\")\n",
    "plt.show()"
   ]
  },
  {
   "cell_type": "markdown",
   "id": "883860ce",
   "metadata": {},
   "source": [
    "*******************************************************************************************\n",
    "!!!!!!!!!!!!!!!!!!!!!!!!!!!!!!!!!!!!!!!!!!!!!!!!!!!!!!!!!!!!!!!!!!!!!!!!!!!!!!!!!!!!!!!!!!!!\n",
    "\n",
    "**ENTER RESULTS CONVERSAION HERE**\n",
    "\n",
    "!!!!!!!!!!!!!!!!!!!!!!!!!!!!!!!!!!!!!!!!!!!!!!!!!!!!!!!!!!!!!!!!!!!!!!!!!!!!!!!!!!!!!!!!!!!!\n",
    "*******************************************************"
   ]
  },
  {
   "cell_type": "markdown",
   "id": "d4d3123f",
   "metadata": {},
   "source": [
    "## 5. Compiler Optimization\n",
    "### Question 5: How Many Times Were Loops Unrolled?\n",
    "A popular way to optimize a compiler is to reduce loop overhead by using loop unrolling. In this section we will examine how many times the loops in `main.c` are unrolled, as well as inspecting whether or not the loops in any of the `pq-*.c` implementations get unrolled."
   ]
  },
  {
   "cell_type": "markdown",
   "id": "3639cc52",
   "metadata": {},
   "source": [
    "*******************************************************************************************\n",
    "!!!!!!!!!!!!!!!!!!!!!!!!!!!!!!!!!!!!!!!!!!!!!!!!!!!!!!!!!!!!!!!!!!!!!!!!!!!!!!!!!!!!!!!!!!!!\n",
    "\n",
    "**ENTER RESULTS CONVERSAION HERE**\n",
    "\n",
    "!!!!!!!!!!!!!!!!!!!!!!!!!!!!!!!!!!!!!!!!!!!!!!!!!!!!!!!!!!!!!!!!!!!!!!!!!!!!!!!!!!!!!!!!!!!!\n",
    "*******************************************************"
   ]
  },
  {
   "cell_type": "markdown",
   "id": "ee15581b",
   "metadata": {},
   "source": [
    "## 6. Repeat Parts 3 and 4 using Loop Unrolling\n",
    "### Questions 6: How does Loop Unrolling Affect Performance of this Implementation of the Sort Loop?\n",
    "The primary aspect we will analyze to see the affect of loop unrolling is the L1 cache miss rates for each of the `pq-*.c` implementations."
   ]
  },
  {
   "cell_type": "code",
   "execution_count": 16,
   "id": "53f14d31",
   "metadata": {
    "scrolled": false
   },
   "outputs": [
    {
     "data": {
      "image/png": "[encoded data removed]",
      "text/plain": [
       "<Figure size 720x360 with 1 Axes>"
      ]
     },
     "metadata": {
      "needs_background": "light"
     },
     "output_type": "display_data"
    },
    {
     "data": {
      "image/png": "[encoded data removed]",
      "text/plain": [
       "<Figure size 720x360 with 1 Axes>"
      ]
     },
     "metadata": {
      "needs_background": "light"
     },
     "output_type": "display_data"
    }
   ],
   "source": [
    "q5 = df.loc[df.part == 'p5']\n",
    "sns.barplot(data=q5, x='pq', y='l1d_miss')\n",
    "plt.title(\"L1 Data Cache Miss Rates with Loop Unrolling\")\n",
    "plt.show()\n",
    "sns.barplot(data=q5, x='pq', y='l1i_miss')\n",
    "plt.title(\"L1 Instruction Cache Miss Rates with Loop Unrolling\")\n",
    "plt.show()"
   ]
  },
  {
   "cell_type": "markdown",
   "id": "479dc2b1",
   "metadata": {},
   "source": [
    "*******************************************************************************************\n",
    "!!!!!!!!!!!!!!!!!!!!!!!!!!!!!!!!!!!!!!!!!!!!!!!!!!!!!!!!!!!!!!!!!!!!!!!!!!!!!!!!!!!!!!!!!!!!\n",
    "\n",
    "**ENTER RESULTS CONVERSAION HERE**\n",
    "\n",
    "!!!!!!!!!!!!!!!!!!!!!!!!!!!!!!!!!!!!!!!!!!!!!!!!!!!!!!!!!!!!!!!!!!!!!!!!!!!!!!!!!!!!!!!!!!!!\n",
    "*******************************************************"
   ]
  },
  {
   "cell_type": "markdown",
   "id": "f3230f1e",
   "metadata": {},
   "source": [
    "### Question 7: Do any Design Choices Change due to Loop Unrolling?\n",
    "We conducted additional simulations with loop unrolling to examine whether or not our design choices change for the operation\n",
    "and issue latency tradeoff, as well as the opportunity to halve either the integer or floating point operation latency. To summarize the combinations, the tradeoff combinations of operation and issue latency are:\n",
    "- opLat = 6, issueLat = 1\n",
    "- opLat = 5, issueLat = 2\n",
    "- opLat = 4, issueLat = 3\n",
    "- opLat = 3, issueLat = 4\n",
    "- opLat = 2, issueLat = 5\n",
    "- opLat = 1, issueLat = 6"
   ]
  },
  {
   "cell_type": "code",
   "execution_count": 17,
   "id": "310bc961",
   "metadata": {
    "scrolled": true
   },
   "outputs": [
    {
     "data": {
      "image/png": "[encoded data removed]",
      "text/plain": [
       "<Figure size 720x360 with 1 Axes>"
      ]
     },
     "metadata": {
      "needs_background": "light"
     },
     "output_type": "display_data"
    }
   ],
   "source": [
    "sns.barplot(data=q5, x='fu', y='l1d_miss')\n",
    "plt.title(\"Operation and Issue Latency Tradeoff with Loop Unrolling\")\n",
    "plt.show()"
   ]
  },
  {
   "cell_type": "markdown",
   "id": "1af3f3e7",
   "metadata": {},
   "source": [
    "*******************************************************************************************\n",
    "!!!!!!!!!!!!!!!!!!!!!!!!!!!!!!!!!!!!!!!!!!!!!!!!!!!!!!!!!!!!!!!!!!!!!!!!!!!!!!!!!!!!!!!!!!!!\n",
    "\n",
    "**ENTER RESULTS CONVERSAION HERE**\n",
    "\n",
    "!!!!!!!!!!!!!!!!!!!!!!!!!!!!!!!!!!!!!!!!!!!!!!!!!!!!!!!!!!!!!!!!!!!!!!!!!!!!!!!!!!!!!!!!!!!!\n",
    "*******************************************************"
   ]
  },
  {
   "cell_type": "markdown",
   "id": "f00b4f30",
   "metadata": {},
   "source": [
    "The options for halving operation latencies are:\n",
    "- Int = 2 cycles, FP = 4 cycles (this will be our baseline)\n",
    "- Int = 1 cycles, FP = 4 cycles \n",
    "- Int = 2 cycles, FP = 2 cycles"
   ]
  },
  {
   "cell_type": "code",
   "execution_count": 18,
   "id": "3c75aba1",
   "metadata": {
    "scrolled": true
   },
   "outputs": [
    {
     "data": {
      "image/png": "[encoded data removed]",
      "text/plain": [
       "<Figure size 720x360 with 1 Axes>"
      ]
     },
     "metadata": {
      "needs_background": "light"
     },
     "output_type": "display_data"
    }
   ],
   "source": [
    "sns.barplot(data=q5, x='op_lat', y='l1d_miss')\n",
    "plt.title(\"Operation Latency Type (Int or Float) Halving with Loop Unrolling\")\n",
    "plt.show()"
   ]
  },
  {
   "cell_type": "markdown",
   "id": "255e02cc",
   "metadata": {},
   "source": [
    "*******************************************************************************************\n",
    "!!!!!!!!!!!!!!!!!!!!!!!!!!!!!!!!!!!!!!!!!!!!!!!!!!!!!!!!!!!!!!!!!!!!!!!!!!!!!!!!!!!!!!!!!!!!\n",
    "\n",
    "**ENTER RESULTS CONVERSAION HERE**\n",
    "\n",
    "!!!!!!!!!!!!!!!!!!!!!!!!!!!!!!!!!!!!!!!!!!!!!!!!!!!!!!!!!!!!!!!!!!!!!!!!!!!!!!!!!!!!!!!!!!!!\n",
    "*******************************************************"
   ]
  }
 ],
 "metadata": {
  "kernelspec": {
   "display_name": "Python 3",
   "language": "python",
   "name": "python3"
  },
  "language_info": {
   "codemirror_mode": {
    "name": "ipython",
    "version": 3
   },
   "file_extension": ".py",
   "mimetype": "text/x-python",
   "name": "python",
   "nbconvert_exporter": "python",
   "pygments_lexer": "ipython3",
   "version": "3.8.8"
  }
 },
 "nbformat": 4,
 "nbformat_minor": 5
}
